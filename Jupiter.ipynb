{
 "cells": [
  {
   "cell_type": "markdown",
   "id": "cca7137a-e012-41b5-b542-c079304d2e3b",
   "metadata": {},
   "source": [
    "# My Jupyter Notebook on IBM Watson Studio"
   ]
  },
  {
   "cell_type": "markdown",
   "id": "ce318f36-0430-42e0-b096-e6812e847e15",
   "metadata": {},
   "source": [
    "**Andrey Bondarev**  \n",
    "100% human"
   ]
  },
  {
   "cell_type": "markdown",
   "id": "12d98d7c-da9f-4e13-a5f2-3108dab4cbec",
   "metadata": {},
   "source": [
    "*I am interested in data science because I love math and programming, also i find it is Interesting*"
   ]
  },
  {
   "cell_type": "markdown",
   "id": "249cd303-ecf6-44c5-8928-b335b98c6f52",
   "metadata": {},
   "source": [
    "### The code above show the sum of numbers"
   ]
  },
  {
   "cell_type": "code",
   "execution_count": 6,
   "id": "f17ee074-0988-41f9-ac2c-2b66f410fa5e",
   "metadata": {},
   "outputs": [
    {
     "name": "stdout",
     "output_type": "stream",
     "text": [
      "24\n"
     ]
    }
   ],
   "source": [
    "def sum(num1, num2):\n",
    "    return num1 + num2\n",
    "\n",
    "print(sum(22,2))"
   ]
  },
  {
   "cell_type": "markdown",
   "id": "36aed3dd-140e-4805-bb0b-c35cb6fbfbcd",
   "metadata": {},
   "source": [
    "1. First\n",
    "2. Second\n",
    "3. Third"
   ]
  },
  {
   "cell_type": "markdown",
   "id": "d9f4c662-334c-455e-99c0-f182688f086e",
   "metadata": {},
   "source": [
    "Try to put a blank line before...\n",
    "\n",
    "---\n",
    "\n",
    "...and after a horizontal rule."
   ]
  },
  {
   "cell_type": "markdown",
   "id": "f2ae56f2-c859-48aa-947b-44baabcd67f6",
   "metadata": {},
   "source": [
    "My favorite search engine is [IBM](https://ibm.com)."
   ]
  },
  {
   "cell_type": "code",
   "execution_count": null,
   "id": "2d1ae3ec-be17-479f-91af-b3ebf76469fb",
   "metadata": {},
   "outputs": [],
   "source": []
  }
 ],
 "metadata": {
  "kernelspec": {
   "display_name": "Python",
   "language": "python",
   "name": "conda-env-python-py"
  },
  "language_info": {
   "codemirror_mode": {
    "name": "ipython",
    "version": 3
   },
   "file_extension": ".py",
   "mimetype": "text/x-python",
   "name": "python",
   "nbconvert_exporter": "python",
   "pygments_lexer": "ipython3",
   "version": "3.7.12"
  }
 },
 "nbformat": 4,
 "nbformat_minor": 5
}
